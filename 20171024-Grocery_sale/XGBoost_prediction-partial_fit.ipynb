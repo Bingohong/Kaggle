{
 "cells": [
  {
   "cell_type": "markdown",
   "metadata": {},
   "source": [
    "## XGBoost模型预测"
   ]
  },
  {
   "cell_type": "code",
   "execution_count": 2,
   "metadata": {
    "collapsed": true
   },
   "outputs": [],
   "source": [
    "import numpy as np\n",
    "import pandas as pd\n",
    "import matplotlib.pylab as plt\n",
    "import seaborn as sns\n",
    "import os\n",
    "path = r\"F:\\Diverse\\statistics\\Python_data_analysis\\Kaggle项目\\20171024-Grocery_sale\"\n",
    "os.chdir(path)\n",
    "\n",
    "%matplotlib inline"
   ]
  },
  {
   "cell_type": "markdown",
   "metadata": {},
   "source": [
    "### 导入数据"
   ]
  },
  {
   "cell_type": "markdown",
   "metadata": {},
   "source": [
    "#### 基础数据"
   ]
  },
  {
   "cell_type": "code",
   "execution_count": 3,
   "metadata": {
    "collapsed": false
   },
   "outputs": [],
   "source": [
    "#load transactions info\n",
    "dtypes = {\"transactions\": \"int16\", \"store_nbr\": \"int8\"}\n",
    "transactions = pd.read_csv(r\"dataset/transactions.csv\", parse_dates=[\"date\"], dtype=dtypes)\n",
    "\n",
    "#load stores info\n",
    "dtypes = {\"store_nbr\": \"int8\", \"cluster\": \"int32\"}\n",
    "stores = pd.read_csv(r\"dataset/stores.csv\",dtype=dtypes)\n",
    "\n",
    "#load items info\n",
    "dtypes = {\"item_nbr\": \"int32\", \"class\": \"int16\", \"perishable\": \"int8\"}\n",
    "items = pd.read_csv(r\"dataset/items.csv\", dtype=dtypes)\n",
    "\n",
    "#load oil info\n",
    "dtypes = {\"dcoilwtico\": \"float32\"}\n",
    "oil = pd.read_csv(r\"dataset/oil.csv\",index_col=\"date\", parse_dates=[\"date\"], dtype=dtypes)\n",
    "oil.fillna(oil.mean(), inplace=True)\n",
    "\n",
    "#load holiday events info\n",
    "holiday = pd.read_csv(r\"dataset/holidays_events.csv\", parse_dates=[\"date\"])"
   ]
  },
  {
   "cell_type": "markdown",
   "metadata": {},
   "source": [
    "### 特征工程"
   ]
  },
  {
   "cell_type": "markdown",
   "metadata": {},
   "source": [
    "#### 商店聚类\n",
    "- hierarchical clustering,树状图确定分类数目\n",
    "- agglomerative进行聚类操作"
   ]
  },
  {
   "cell_type": "code",
   "execution_count": 4,
   "metadata": {
    "collapsed": false
   },
   "outputs": [],
   "source": [
    "from scipy.cluster.hierarchy import ward, dendrogram\n",
    "from sklearn.cluster import AgglomerativeClustering"
   ]
  },
  {
   "cell_type": "code",
   "execution_count": 5,
   "metadata": {
    "collapsed": false
   },
   "outputs": [
    {
     "data": {
      "image/png": "[encoded data removed]",
      "text/plain": [
       "<matplotlib.figure.Figure at 0xabba2e8>"
      ]
     },
     "metadata": {},
     "output_type": "display_data"
    }
   ],
   "source": [
    "hc = transactions.groupby([\"store_nbr\",\"date\"]).transactions.mean().unstack(level=1).fillna(0)\n",
    "fig = plt.figure(figsize=(5,5))\n",
    "ax = fig.add_subplot(111)\n",
    "w = ward(hc)\n",
    "dendrogram(w,truncate_mode='lastp',ax=ax,leaf_font_size=12,leaf_rotation=90,show_contracted=True)\n",
    "plt.show()"
   ]
  },
  {
   "cell_type": "code",
   "execution_count": 6,
   "metadata": {
    "collapsed": true
   },
   "outputs": [],
   "source": [
    "# divide into 6 cluster\n",
    "clustering = AgglomerativeClustering(n_clusters=6)\n",
    "cluster = clustering.fit_predict(hc)"
   ]
  },
  {
   "cell_type": "markdown",
   "metadata": {},
   "source": [
    "#### items信息处理"
   ]
  },
  {
   "cell_type": "code",
   "execution_count": 7,
   "metadata": {
    "collapsed": false
   },
   "outputs": [],
   "source": [
    "# items -> class\n",
    "bins = range(1000,9000,1000)\n",
    "labels = range(7)\n",
    "bin_class = pd.cut(items[\"class\"], bins=bins, labels=labels)\n",
    "items[\"bin_class\"] = bin_class\n",
    "\n",
    "# items -> family\n",
    "family = items.family.unique()\n",
    "num_family = np.count_nonzero(family)\n",
    "\n",
    "# store -> state\n",
    "state = stores.state.unique()\n",
    "num_state = np.count_nonzero(state)"
   ]
  },
  {
   "cell_type": "markdown",
   "metadata": {},
   "source": [
    "#### 数据映射"
   ]
  },
  {
   "cell_type": "code",
   "execution_count": 8,
   "metadata": {
    "collapsed": false,
    "scrolled": true
   },
   "outputs": [
    {
     "name": "stdout",
     "output_type": "stream",
     "text": [
      "Index(['date', 'store_nbr', 'transactions'], dtype='object')\n",
      "Index(['store_nbr', 'city', 'state', 'type', 'cluster', 'cluster_store'], dtype='object')\n",
      "Index(['store_nbr', 'city', 'state', 'type', 'cluster', 'cluster_store'], dtype='object')\n",
      "Index(['item_nbr', 'family', 'class', 'perishable', 'bin_class'], dtype='object')\n"
     ]
    }
   ],
   "source": [
    "# maping form store_nbr to cluster_nbr\n",
    "maps_store = dict(zip(hc.index.values,cluster))\n",
    "stores[\"cluster_store\"] = stores.store_nbr.map(maps_store)\n",
    "print(transactions.columns)\n",
    "\n",
    "# maping store_type\n",
    "maps_store_type = dict(zip(np.sort(stores.type.unique()),range(5)))\n",
    "stores[\"type\"] = stores.type.map(maps_store_type)\n",
    "print(stores.columns)\n",
    "\n",
    "# mapping store state\n",
    "maps_state = dict(zip(state,range(num_state)))\n",
    "stores.state = stores.state.map(maps_state)\n",
    "print(stores.columns)\n",
    "\n",
    "# mapping items family\n",
    "maps_family = dict(zip(family,range(num_family)))\n",
    "items[\"family\"] = items.family.map(maps_family)\n",
    "print(items.columns)"
   ]
  },
  {
   "cell_type": "markdown",
   "metadata": {},
   "source": [
    "#### 数据合并"
   ]
  },
  {
   "cell_type": "code",
   "execution_count": 9,
   "metadata": {
    "collapsed": false
   },
   "outputs": [],
   "source": [
    "def data_merge(train, number=0, istrain=True, iflog=False):\n",
    "    train = train.reset_index()\n",
    "    \n",
    "    if istrain:\n",
    "        train = train.sort_values(by=[\"store_nbr\",\"item_nbr\",\"date\"])\n",
    "        mean = train.unit_sales.ewm(span=7).mean()\n",
    "        train.unit_sales = mean\n",
    "\n",
    "    train[\"year\"] = train[\"date\"].dt.year\n",
    "    train[\"month\"] = train[\"date\"].dt.month\n",
    "    train[\"day\"] = train[\"date\"].dt.day\n",
    "    train[\"dayofweek\"] = train[\"date\"].dt.dayofweek\n",
    "    train[\"weekofyear\"] = train[\"date\"].dt.dayofweek\n",
    "\n",
    "    train = pd.merge(train, stores[[\"store_nbr\",\"type\",\"cluster_store\",\"state\"]], on=\"store_nbr\")\n",
    "    train = pd.merge(train, items[[\"item_nbr\",\"perishable\",\"bin_class\",\"family\"]], on=\"item_nbr\")\n",
    "    train = pd.merge(train, oil, how=\"left\", left_on=\"date\", right_index=True)\n",
    "    maping = {None:0, False:0, True:1}\n",
    "    train.onpromotion = train.onpromotion.map(maping)\n",
    "    \n",
    "    train = train.set_index(\"id\")\n",
    "    train.drop([\"date\",\"store_nbr\"],axis=1,inplace=True)\n",
    "    category_list = list(set(train.columns) - set([\"unit_sales\",\"dcoilwtico\",\"year\",\"month\",\"day\",\"dayofweek\",\"weekofyear\",\"item_nbr\"]))\n",
    "    train = pd.get_dummies(train, columns=category_list)\n",
    "    print(\"the train set shape is \", train.shape)\n",
    "    \n",
    "    if istrain:\n",
    "        if iflog:\n",
    "            train = train[train.unit_sales > 0]\n",
    "            unit_sales = np.log(train.unit_sales.values)\n",
    "        else:\n",
    "            unit_sales = train.unit_sales.values\n",
    "        train.drop(labels=[\"unit_sales\"], axis=1, inplace=True)\n",
    "        \n",
    "        dtrain = xgb.DMatrix(data=train,label=unit_sales)\n",
    "        # filename = (\"data_xgboost/dtrain-%.5d.buffer\" % (number)) \n",
    "        filename = \"data_xgboost/dtrain.buffer\"\n",
    "        dtrain.save_binary(filename)\n",
    "        print(\"the filename of data buffer is\", filename)\n",
    "    else:\n",
    "        dtrain = xgb.DMatrix(data=train)\n",
    "        filename = (\"data_xgboost/dtest-%.3d.buffer\" % (number)) \n",
    "        dtrain.save_binary(filename)\n",
    "        print(\"the filename of data buffer is\", filename)\n",
    "    del train\n",
    "        \n",
    "    return dtrain"
   ]
  },
  {
   "cell_type": "markdown",
   "metadata": {},
   "source": [
    "### XGBoost模型\n",
    "- xgb.DMatrix 将数据转化为XGBoost使用的二进制数据\n",
    "- xgb.train 训练XGBoost模型"
   ]
  },
  {
   "cell_type": "code",
   "execution_count": 10,
   "metadata": {
    "collapsed": false,
    "scrolled": true
   },
   "outputs": [
    {
     "name": "stderr",
     "output_type": "stream",
     "text": [
      "D:\\Anaconda3\\lib\\site-packages\\sklearn\\cross_validation.py:41: DeprecationWarning: This module was deprecated in version 0.18 in favor of the model_selection module into which all the refactored classes and functions are moved. Also note that the interface of the new CV iterators are different from that of this module. This module will be removed in 0.20.\n",
      "  \"This module will be removed in 0.20.\", DeprecationWarning)\n"
     ]
    }
   ],
   "source": [
    "import xgboost as xgb\n",
    "from sklearn.model_selection import train_test_split"
   ]
  },
  {
   "cell_type": "raw",
   "metadata": {
    "collapsed": true
   },
   "source": [
    "dtrain,dev = train_test_split(train, shuffle=False)"
   ]
  },
  {
   "cell_type": "markdown",
   "metadata": {},
   "source": [
    "#### partial_fit 流式增量训练"
   ]
  },
  {
   "cell_type": "markdown",
   "metadata": {},
   "source": [
    "##### 基础训练器"
   ]
  },
  {
   "cell_type": "code",
   "execution_count": 10,
   "metadata": {
    "collapsed": false
   },
   "outputs": [],
   "source": [
    "def model_fit(dtrain, number, filename=None):\n",
    "    parameters = {\"eta\":0.001, \n",
    "                  \"max_depth\":5,\n",
    "                  \"min_child_weight\":1, \n",
    "                  \"subsample\":0.8,\n",
    "                 \"colsample_bytree\":0.8,\n",
    "                  \"objective\":\"reg:linear\", \n",
    "                  \"silent\":1}\n",
    "\n",
    "    num_round = 200\n",
    "    #watchlist=[(dtrain,\"eval\"),(dev,\"val\")]\n",
    "    watchlist=[(dtrain,\"eval\")]\n",
    "    \n",
    "    model = xgb.train(parameters, \n",
    "                      dtrain,\n",
    "                      num_round, \n",
    "                      evals = watchlist,\n",
    "                      early_stopping_rounds = 50,\n",
    "                      verbose_eval = 100,\n",
    "                      xgb_model=filename\n",
    "                     )\n",
    "\n",
    "    filename = (\"model_xgboost/xgbmodel-%0.3d.model\" % (number))\n",
    "    model.save_model(filename)\n",
    "    \n",
    "    return filename"
   ]
  },
  {
   "cell_type": "markdown",
   "metadata": {},
   "source": [
    "##### pandas 分批导入数据"
   ]
  },
  {
   "cell_type": "code",
   "execution_count": 11,
   "metadata": {
    "collapsed": true
   },
   "outputs": [],
   "source": [
    "#load train set\n",
    "dtypes = {\"store_nbr\": \"int64\",\n",
    "         \"item_nbr\": \"int64\",\n",
    "         \"unit_sales\": \"float64\",\n",
    "         \"onpromotion\": bool}\n",
    "reader = pd.read_csv(r\"dataset/train.csv\", index_col=\"id\", parse_dates=[\"date\"],\n",
    "                     dtype=dtypes, iterator=True, chunksize=250000)"
   ]
  },
  {
   "cell_type": "markdown",
   "metadata": {},
   "source": [
    "##### 增量训练器"
   ]
  },
  {
   "cell_type": "code",
   "execution_count": 12,
   "metadata": {
    "collapsed": true
   },
   "outputs": [],
   "source": [
    "def partial_fit(reader,thread=245):\n",
    "    for i,read in enumerate(reader):\n",
    "        if i >= thread:\n",
    "            print(\"iterator: \",i)\n",
    "            dtrain = data_merge(read, number=i)\n",
    "            if i == thread:\n",
    "                model_file = model_fit(dtrain, i)\n",
    "            else:\n",
    "                model_file = model_fit(dtrain, i, filename=model_file)\n",
    "            print(model_file)\n",
    "    return model_file"
   ]
  },
  {
   "cell_type": "markdown",
   "metadata": {},
   "source": [
    "#### 加载最终模型"
   ]
  },
  {
   "cell_type": "code",
   "execution_count": null,
   "metadata": {
    "collapsed": true
   },
   "outputs": [
    {
     "name": "stdout",
     "output_type": "stream",
     "text": [
      "iterator:  400\n",
      "the train set shape is  (250000, 79)\n",
      "the filename of data buffer is data_xgboost/dtrain.buffer\n",
      "[0]\teval-rmse:14.8257\n",
      "Will train until eval-rmse hasn't improved in 50 rounds.\n",
      "[100]\teval-rmse:14.3399\n",
      "model_xgboost/xgbmodel-400.model\n",
      "iterator:  401\n",
      "the train set shape is  (250000, 79)\n",
      "the filename of data buffer is data_xgboost/dtrain.buffer\n",
      "[0]\teval-rmse:19.0172\n",
      "Will train until eval-rmse hasn't improved in 50 rounds.\n",
      "[100]\teval-rmse:18.4667\n",
      "model_xgboost/xgbmodel-401.model\n",
      "iterator:  402\n",
      "the train set shape is  (250000, 79)\n",
      "the filename of data buffer is data_xgboost/dtrain.buffer\n",
      "[0]\teval-rmse:18.99\n",
      "Will train until eval-rmse hasn't improved in 50 rounds.\n",
      "[100]\teval-rmse:18.5688\n",
      "model_xgboost/xgbmodel-402.model\n",
      "iterator:  403\n",
      "the train set shape is  (250000, 79)\n",
      "the filename of data buffer is data_xgboost/dtrain.buffer\n",
      "[0]\teval-rmse:16.7938\n",
      "Will train until eval-rmse hasn't improved in 50 rounds.\n",
      "[100]\teval-rmse:16.4584\n",
      "model_xgboost/xgbmodel-403.model\n",
      "iterator:  404\n",
      "the train set shape is  (250000, 79)\n",
      "the filename of data buffer is data_xgboost/dtrain.buffer\n",
      "[0]\teval-rmse:12.2419\n",
      "Will train until eval-rmse hasn't improved in 50 rounds.\n",
      "[100]\teval-rmse:12.0587\n",
      "model_xgboost/xgbmodel-404.model\n",
      "iterator:  405\n",
      "the train set shape is  (250000, 79)\n",
      "the filename of data buffer is data_xgboost/dtrain.buffer\n",
      "[0]\teval-rmse:10.3523\n",
      "Will train until eval-rmse hasn't improved in 50 rounds.\n",
      "[100]\teval-rmse:10.2349\n",
      "model_xgboost/xgbmodel-405.model\n",
      "iterator:  406\n",
      "the train set shape is  (250000, 79)\n",
      "the filename of data buffer is data_xgboost/dtrain.buffer\n",
      "[0]\teval-rmse:12.4902\n",
      "Will train until eval-rmse hasn't improved in 50 rounds.\n",
      "[100]\teval-rmse:12.2931\n",
      "model_xgboost/xgbmodel-406.model\n",
      "iterator:  407\n",
      "the train set shape is  (250000, 79)\n",
      "the filename of data buffer is data_xgboost/dtrain.buffer\n",
      "[0]\teval-rmse:12.737\n",
      "Will train until eval-rmse hasn't improved in 50 rounds.\n",
      "[100]\teval-rmse:12.536\n",
      "model_xgboost/xgbmodel-407.model\n",
      "iterator:  408\n",
      "the train set shape is  (250000, 79)\n",
      "the filename of data buffer is data_xgboost/dtrain.buffer\n",
      "[0]\teval-rmse:11.0488\n",
      "Will train until eval-rmse hasn't improved in 50 rounds.\n",
      "[100]\teval-rmse:10.9893\n",
      "model_xgboost/xgbmodel-408.model\n",
      "iterator:  409\n",
      "the train set shape is  (250000, 79)\n",
      "the filename of data buffer is data_xgboost/dtrain.buffer\n",
      "[0]\teval-rmse:12.262\n",
      "Will train until eval-rmse hasn't improved in 50 rounds.\n",
      "[100]\teval-rmse:12.1074\n",
      "model_xgboost/xgbmodel-409.model\n",
      "iterator:  410\n",
      "the train set shape is  (250000, 79)\n",
      "the filename of data buffer is data_xgboost/dtrain.buffer\n",
      "[0]\teval-rmse:10.9508\n",
      "Will train until eval-rmse hasn't improved in 50 rounds.\n",
      "[100]\teval-rmse:10.8358\n",
      "model_xgboost/xgbmodel-410.model\n",
      "iterator:  411\n",
      "the train set shape is  (250000, 79)\n",
      "the filename of data buffer is data_xgboost/dtrain.buffer\n",
      "[0]\teval-rmse:9.62145\n",
      "Will train until eval-rmse hasn't improved in 50 rounds.\n",
      "[100]\teval-rmse:9.51789\n",
      "model_xgboost/xgbmodel-411.model\n",
      "iterator:  412\n",
      "the train set shape is  (250000, 79)\n",
      "the filename of data buffer is data_xgboost/dtrain.buffer\n",
      "[0]\teval-rmse:13.5202\n",
      "Will train until eval-rmse hasn't improved in 50 rounds.\n",
      "[100]\teval-rmse:13.1775\n",
      "model_xgboost/xgbmodel-412.model\n",
      "iterator:  413\n",
      "the train set shape is  (250000, 79)\n",
      "the filename of data buffer is data_xgboost/dtrain.buffer\n",
      "[0]\teval-rmse:11.9467\n",
      "Will train until eval-rmse hasn't improved in 50 rounds.\n",
      "[100]\teval-rmse:11.8318\n",
      "model_xgboost/xgbmodel-413.model\n",
      "iterator:  414\n",
      "the train set shape is  (250000, 79)\n",
      "the filename of data buffer is data_xgboost/dtrain.buffer\n",
      "[0]\teval-rmse:8.35485\n",
      "Will train until eval-rmse hasn't improved in 50 rounds.\n",
      "[100]\teval-rmse:8.29433\n",
      "model_xgboost/xgbmodel-414.model\n",
      "iterator:  415\n",
      "the train set shape is  (250000, 79)\n",
      "the filename of data buffer is data_xgboost/dtrain.buffer\n",
      "[0]\teval-rmse:13.6593\n",
      "Will train until eval-rmse hasn't improved in 50 rounds.\n",
      "[100]\teval-rmse:13.4034\n",
      "model_xgboost/xgbmodel-415.model\n",
      "iterator:  416\n",
      "the train set shape is  (250000, 79)\n",
      "the filename of data buffer is data_xgboost/dtrain.buffer\n",
      "[0]\teval-rmse:9.06387\n",
      "Will train until eval-rmse hasn't improved in 50 rounds.\n",
      "[100]\teval-rmse:9.01403\n",
      "model_xgboost/xgbmodel-416.model\n",
      "iterator:  417\n",
      "the train set shape is  (250000, 79)\n",
      "the filename of data buffer is data_xgboost/dtrain.buffer\n",
      "[0]\teval-rmse:9.31472\n",
      "Will train until eval-rmse hasn't improved in 50 rounds.\n",
      "[100]\teval-rmse:9.26508\n",
      "model_xgboost/xgbmodel-417.model\n",
      "iterator:  418\n",
      "the train set shape is  (250000, 79)\n",
      "the filename of data buffer is data_xgboost/dtrain.buffer\n",
      "[0]\teval-rmse:8.90841\n",
      "Will train until eval-rmse hasn't improved in 50 rounds.\n",
      "[100]\teval-rmse:8.87386\n",
      "model_xgboost/xgbmodel-418.model\n",
      "iterator:  419\n",
      "the train set shape is  (250000, 79)\n",
      "the filename of data buffer is data_xgboost/dtrain.buffer\n",
      "[0]\teval-rmse:7.94778\n",
      "Will train until eval-rmse hasn't improved in 50 rounds.\n",
      "[100]\teval-rmse:7.88917\n",
      "model_xgboost/xgbmodel-419.model\n",
      "iterator:  420\n",
      "the train set shape is  (250000, 79)\n",
      "the filename of data buffer is data_xgboost/dtrain.buffer\n",
      "[0]\teval-rmse:9.36894\n",
      "Will train until eval-rmse hasn't improved in 50 rounds.\n",
      "[100]\teval-rmse:9.315\n",
      "model_xgboost/xgbmodel-420.model\n",
      "iterator:  421\n",
      "the train set shape is  (250000, 79)\n",
      "the filename of data buffer is data_xgboost/dtrain.buffer\n",
      "[0]\teval-rmse:9.19474\n",
      "Will train until eval-rmse hasn't improved in 50 rounds.\n",
      "[100]\teval-rmse:9.17169\n",
      "model_xgboost/xgbmodel-421.model\n",
      "iterator:  422\n",
      "the train set shape is  (250000, 79)\n",
      "the filename of data buffer is data_xgboost/dtrain.buffer\n",
      "[0]\teval-rmse:8.38438\n",
      "Will train until eval-rmse hasn't improved in 50 rounds.\n",
      "[100]\teval-rmse:8.32431\n",
      "model_xgboost/xgbmodel-422.model\n",
      "iterator:  423\n",
      "the train set shape is  (250000, 79)\n",
      "the filename of data buffer is data_xgboost/dtrain.buffer\n",
      "[0]\teval-rmse:9.49831\n",
      "Will train until eval-rmse hasn't improved in 50 rounds.\n",
      "[100]\teval-rmse:9.47521\n",
      "model_xgboost/xgbmodel-423.model\n",
      "iterator:  424\n",
      "the train set shape is  (250000, 79)\n",
      "the filename of data buffer is data_xgboost/dtrain.buffer\n",
      "[0]\teval-rmse:8.51668\n",
      "Will train until eval-rmse hasn't improved in 50 rounds.\n",
      "[100]\teval-rmse:8.4968\n",
      "model_xgboost/xgbmodel-424.model\n",
      "iterator:  425\n",
      "the train set shape is  (250000, 79)\n",
      "the filename of data buffer is data_xgboost/dtrain.buffer\n",
      "[0]\teval-rmse:7.21209\n",
      "Will train until eval-rmse hasn't improved in 50 rounds.\n",
      "[100]\teval-rmse:7.14747\n",
      "model_xgboost/xgbmodel-425.model\n",
      "iterator:  426\n",
      "the train set shape is  (250000, 79)\n",
      "the filename of data buffer is data_xgboost/dtrain.buffer\n",
      "[0]\teval-rmse:8.83334\n",
      "Will train until eval-rmse hasn't improved in 50 rounds.\n",
      "[100]\teval-rmse:8.81505\n",
      "model_xgboost/xgbmodel-426.model\n",
      "iterator:  427\n",
      "the train set shape is  (250000, 79)\n",
      "the filename of data buffer is data_xgboost/dtrain.buffer\n",
      "[0]\teval-rmse:7.47879\n",
      "Will train until eval-rmse hasn't improved in 50 rounds.\n",
      "[100]\teval-rmse:7.46267\n",
      "model_xgboost/xgbmodel-427.model\n",
      "iterator:  428\n",
      "the train set shape is  (250000, 79)\n",
      "the filename of data buffer is data_xgboost/dtrain.buffer\n",
      "[0]\teval-rmse:7.96847\n",
      "Will train until eval-rmse hasn't improved in 50 rounds.\n",
      "[100]\teval-rmse:7.93219\n",
      "model_xgboost/xgbmodel-428.model\n",
      "iterator:  429\n",
      "the train set shape is  (250000, 79)\n",
      "the filename of data buffer is data_xgboost/dtrain.buffer\n",
      "[0]\teval-rmse:9.03781\n",
      "Will train until eval-rmse hasn't improved in 50 rounds.\n",
      "[100]\teval-rmse:8.98981\n",
      "model_xgboost/xgbmodel-429.model\n",
      "iterator:  430\n",
      "the train set shape is  (250000, 79)\n",
      "the filename of data buffer is data_xgboost/dtrain.buffer\n",
      "[0]\teval-rmse:9.24007\n",
      "Will train until eval-rmse hasn't improved in 50 rounds.\n",
      "[100]\teval-rmse:9.20223\n",
      "model_xgboost/xgbmodel-430.model\n",
      "iterator:  431\n",
      "the train set shape is  (250000, 79)\n",
      "the filename of data buffer is data_xgboost/dtrain.buffer\n",
      "[0]\teval-rmse:11.4484\n",
      "Will train until eval-rmse hasn't improved in 50 rounds.\n",
      "[100]\teval-rmse:11.3992\n",
      "model_xgboost/xgbmodel-431.model\n",
      "iterator:  432\n",
      "the train set shape is  (250000, 79)\n",
      "the filename of data buffer is data_xgboost/dtrain.buffer\n",
      "[0]\teval-rmse:10.8134\n",
      "Will train until eval-rmse hasn't improved in 50 rounds.\n",
      "[100]\teval-rmse:10.7664\n",
      "model_xgboost/xgbmodel-432.model\n",
      "iterator:  433\n",
      "the train set shape is  (250000, 79)\n",
      "the filename of data buffer is data_xgboost/dtrain.buffer\n",
      "[0]\teval-rmse:13.2001\n",
      "Will train until eval-rmse hasn't improved in 50 rounds.\n",
      "[100]\teval-rmse:13.1429\n",
      "model_xgboost/xgbmodel-433.model\n",
      "iterator:  434\n",
      "the train set shape is  (250000, 79)\n",
      "the filename of data buffer is data_xgboost/dtrain.buffer\n",
      "[0]\teval-rmse:11.0558\n",
      "Will train until eval-rmse hasn't improved in 50 rounds.\n",
      "[100]\teval-rmse:10.9597\n",
      "model_xgboost/xgbmodel-434.model\n",
      "iterator:  435\n",
      "the train set shape is  (250000, 79)\n",
      "the filename of data buffer is data_xgboost/dtrain.buffer\n",
      "[0]\teval-rmse:8.97326\n",
      "Will train until eval-rmse hasn't improved in 50 rounds.\n",
      "[100]\teval-rmse:8.9422\n",
      "model_xgboost/xgbmodel-435.model\n",
      "iterator:  436\n",
      "the train set shape is  (250000, 79)\n",
      "the filename of data buffer is data_xgboost/dtrain.buffer\n",
      "[0]\teval-rmse:11.8488\n",
      "Will train until eval-rmse hasn't improved in 50 rounds.\n",
      "[100]\teval-rmse:11.8019\n",
      "model_xgboost/xgbmodel-436.model\n",
      "iterator:  437\n",
      "the train set shape is  (250000, 79)\n",
      "the filename of data buffer is data_xgboost/dtrain.buffer\n",
      "[0]\teval-rmse:8.34231\n",
      "Will train until eval-rmse hasn't improved in 50 rounds.\n",
      "[100]\teval-rmse:8.30164\n",
      "model_xgboost/xgbmodel-437.model\n",
      "iterator:  438\n",
      "the train set shape is  (250000, 79)\n",
      "the filename of data buffer is data_xgboost/dtrain.buffer\n",
      "[0]\teval-rmse:11.5895\n",
      "Will train until eval-rmse hasn't improved in 50 rounds.\n",
      "[100]\teval-rmse:11.4626\n",
      "model_xgboost/xgbmodel-438.model\n",
      "iterator:  439\n",
      "the train set shape is  (250000, 79)\n",
      "the filename of data buffer is data_xgboost/dtrain.buffer\n",
      "[0]\teval-rmse:9.47723\n",
      "Will train until eval-rmse hasn't improved in 50 rounds.\n",
      "[100]\teval-rmse:9.4233\n",
      "model_xgboost/xgbmodel-439.model\n",
      "iterator:  440\n",
      "the train set shape is  (250000, 79)\n",
      "the filename of data buffer is data_xgboost/dtrain.buffer\n",
      "[0]\teval-rmse:11.9341\n",
      "Will train until eval-rmse hasn't improved in 50 rounds.\n",
      "[100]\teval-rmse:11.9024\n",
      "model_xgboost/xgbmodel-440.model\n",
      "iterator:  441\n",
      "the train set shape is  (250000, 79)\n",
      "the filename of data buffer is data_xgboost/dtrain.buffer\n",
      "[0]\teval-rmse:12.6779\n",
      "Will train until eval-rmse hasn't improved in 50 rounds.\n",
      "[100]\teval-rmse:12.5986\n",
      "model_xgboost/xgbmodel-441.model\n",
      "iterator:  442\n",
      "the train set shape is  (250000, 79)\n",
      "the filename of data buffer is data_xgboost/dtrain.buffer\n",
      "[0]\teval-rmse:9.76926\n",
      "Will train until eval-rmse hasn't improved in 50 rounds.\n",
      "[100]\teval-rmse:9.73685\n",
      "model_xgboost/xgbmodel-442.model\n",
      "iterator:  443\n",
      "the train set shape is  (250000, 79)\n",
      "the filename of data buffer is data_xgboost/dtrain.buffer\n",
      "[0]\teval-rmse:8.68963\n",
      "Will train until eval-rmse hasn't improved in 50 rounds.\n",
      "[100]\teval-rmse:8.65887\n",
      "model_xgboost/xgbmodel-443.model\n",
      "iterator:  444\n",
      "the train set shape is  (250000, 79)\n",
      "the filename of data buffer is data_xgboost/dtrain.buffer\n",
      "[0]\teval-rmse:17.3698\n",
      "Will train until eval-rmse hasn't improved in 50 rounds.\n",
      "[100]\teval-rmse:17.2612\n",
      "model_xgboost/xgbmodel-444.model\n",
      "iterator:  445\n",
      "the train set shape is  (250000, 79)\n",
      "the filename of data buffer is data_xgboost/dtrain.buffer\n",
      "[0]\teval-rmse:9.31838\n",
      "Will train until eval-rmse hasn't improved in 50 rounds.\n",
      "[100]\teval-rmse:9.29171\n",
      "model_xgboost/xgbmodel-445.model\n",
      "iterator:  446\n",
      "the train set shape is  (250000, 79)\n",
      "the filename of data buffer is data_xgboost/dtrain.buffer\n",
      "[0]\teval-rmse:14.1256\n",
      "Will train until eval-rmse hasn't improved in 50 rounds.\n",
      "[100]\teval-rmse:14.0748\n",
      "model_xgboost/xgbmodel-446.model\n",
      "iterator:  447\n",
      "the train set shape is  (250000, 79)\n",
      "the filename of data buffer is data_xgboost/dtrain.buffer\n",
      "[0]\teval-rmse:10.4389\n",
      "Will train until eval-rmse hasn't improved in 50 rounds.\n",
      "[100]\teval-rmse:10.3913\n",
      "model_xgboost/xgbmodel-447.model\n",
      "iterator:  448\n",
      "the train set shape is  (250000, 79)\n",
      "the filename of data buffer is data_xgboost/dtrain.buffer\n",
      "[0]\teval-rmse:24.033\n",
      "Will train until eval-rmse hasn't improved in 50 rounds.\n",
      "[100]\teval-rmse:23.9365\n",
      "model_xgboost/xgbmodel-448.model\n",
      "iterator:  449\n",
      "the train set shape is  (250000, 79)\n",
      "the filename of data buffer is data_xgboost/dtrain.buffer\n",
      "[0]\teval-rmse:8.72257\n",
      "Will train until eval-rmse hasn't improved in 50 rounds.\n",
      "[100]\teval-rmse:8.67285\n",
      "model_xgboost/xgbmodel-449.model\n",
      "iterator:  450\n",
      "the train set shape is  (250000, 79)\n",
      "the filename of data buffer is data_xgboost/dtrain.buffer\n",
      "[0]\teval-rmse:8.24651\n",
      "Will train until eval-rmse hasn't improved in 50 rounds.\n",
      "[100]\teval-rmse:8.21673\n",
      "model_xgboost/xgbmodel-450.model\n",
      "iterator:  451\n",
      "the train set shape is  (250000, 79)\n",
      "the filename of data buffer is data_xgboost/dtrain.buffer\n",
      "[0]\teval-rmse:8.47834\n",
      "Will train until eval-rmse hasn't improved in 50 rounds.\n",
      "[100]\teval-rmse:8.43672\n",
      "model_xgboost/xgbmodel-451.model\n",
      "iterator:  452\n",
      "the train set shape is  (250000, 79)\n",
      "the filename of data buffer is data_xgboost/dtrain.buffer\n",
      "[0]\teval-rmse:9.04525\n",
      "Will train until eval-rmse hasn't improved in 50 rounds.\n",
      "[100]\teval-rmse:9.01521\n",
      "model_xgboost/xgbmodel-452.model\n",
      "iterator:  453\n",
      "the train set shape is  (250000, 79)\n",
      "the filename of data buffer is data_xgboost/dtrain.buffer\n",
      "[0]\teval-rmse:9.12248\n",
      "Will train until eval-rmse hasn't improved in 50 rounds.\n",
      "[100]\teval-rmse:9.06702\n",
      "model_xgboost/xgbmodel-453.model\n",
      "iterator:  454\n",
      "the train set shape is  (250000, 79)\n",
      "the filename of data buffer is data_xgboost/dtrain.buffer\n",
      "[0]\teval-rmse:11.6396\n",
      "Will train until eval-rmse hasn't improved in 50 rounds.\n",
      "[100]\teval-rmse:11.6018\n",
      "model_xgboost/xgbmodel-454.model\n",
      "iterator:  455\n",
      "the train set shape is  (250000, 79)\n",
      "the filename of data buffer is data_xgboost/dtrain.buffer\n",
      "[0]\teval-rmse:8.35049\n",
      "Will train until eval-rmse hasn't improved in 50 rounds.\n",
      "[100]\teval-rmse:8.32261\n",
      "model_xgboost/xgbmodel-455.model\n",
      "iterator:  456\n",
      "the train set shape is  (250000, 79)\n",
      "the filename of data buffer is data_xgboost/dtrain.buffer\n",
      "[0]\teval-rmse:9.57971\n",
      "Will train until eval-rmse hasn't improved in 50 rounds.\n",
      "[100]\teval-rmse:9.53298\n",
      "model_xgboost/xgbmodel-456.model\n",
      "iterator:  457\n",
      "the train set shape is  (250000, 79)\n",
      "the filename of data buffer is data_xgboost/dtrain.buffer\n",
      "[0]\teval-rmse:13.1136\n",
      "Will train until eval-rmse hasn't improved in 50 rounds.\n",
      "[100]\teval-rmse:13.057\n",
      "model_xgboost/xgbmodel-457.model\n",
      "iterator:  458\n",
      "the train set shape is  (250000, 79)\n",
      "the filename of data buffer is data_xgboost/dtrain.buffer\n",
      "[0]\teval-rmse:10.7485\n",
      "Will train until eval-rmse hasn't improved in 50 rounds.\n",
      "[100]\teval-rmse:10.7243\n",
      "model_xgboost/xgbmodel-458.model\n",
      "iterator:  459\n",
      "the train set shape is  (250000, 79)\n",
      "the filename of data buffer is data_xgboost/dtrain.buffer\n",
      "[0]\teval-rmse:13.0718\n",
      "Will train until eval-rmse hasn't improved in 50 rounds.\n"
     ]
    }
   ],
   "source": [
    "model_file = partial_fit(reader,thread=400)"
   ]
  },
  {
   "cell_type": "code",
   "execution_count": 11,
   "metadata": {
    "collapsed": false
   },
   "outputs": [],
   "source": [
    "model_file = r\"model_xgboost/xgbmodel-458.model\"\n",
    "xgb_model = xgb.Booster()\n",
    "xgb_model.load_model(model_file)"
   ]
  },
  {
   "cell_type": "markdown",
   "metadata": {},
   "source": [
    "### 测试集预测"
   ]
  },
  {
   "cell_type": "markdown",
   "metadata": {},
   "source": [
    "#### 转化测试集 & 预测"
   ]
  },
  {
   "cell_type": "code",
   "execution_count": 12,
   "metadata": {
    "collapsed": false
   },
   "outputs": [
    {
     "name": "stdout",
     "output_type": "stream",
     "text": [
      "the train set shape is  (500000, 78)\n",
      "the filename of data buffer is data_xgboost/dtest-000.buffer\n",
      "the train set shape is  (500000, 78)\n",
      "the filename of data buffer is data_xgboost/dtest-001.buffer\n",
      "the train set shape is  (500000, 78)\n",
      "the filename of data buffer is data_xgboost/dtest-002.buffer\n",
      "the train set shape is  (500000, 78)\n",
      "the filename of data buffer is data_xgboost/dtest-003.buffer\n",
      "the train set shape is  (500000, 78)\n",
      "the filename of data buffer is data_xgboost/dtest-004.buffer\n",
      "the train set shape is  (500000, 78)\n",
      "the filename of data buffer is data_xgboost/dtest-005.buffer\n",
      "the train set shape is  (370464, 78)\n",
      "the filename of data buffer is data_xgboost/dtest-006.buffer\n"
     ]
    }
   ],
   "source": [
    "#test set\n",
    "dtypes = {\"store_nbr\": \"int16\",\n",
    "         \"item_nbr\": \"int32\",\n",
    "         \"onpromotion\": bool}\n",
    "testset = pd.read_csv(r\"dataset/test.csv\", index_col=\"id\", parse_dates=[\"date\"], \n",
    "                      iterator=True, chunksize=500000, dtype=dtypes)\n",
    "\n",
    "results = pd.DataFrame(columns=[\"unit_sales\"])\n",
    "for i, test in enumerate(testset):\n",
    "    testindex = test.index\n",
    "    dtest = data_merge(test, number=i, istrain=False)\n",
    "    ypred = xgb_model.predict(dtest)\n",
    "    temp = pd.DataFrame(data=ypred,index=testindex,columns=[\"unit_sales\"])\n",
    "    results = pd.concat([results, temp])"
   ]
  },
  {
   "cell_type": "markdown",
   "metadata": {},
   "source": [
    "#### 直接预测"
   ]
  },
  {
   "cell_type": "code",
   "execution_count": null,
   "metadata": {
    "collapsed": true
   },
   "outputs": [],
   "source": [
    "#test set\n",
    "dtypes = {\"store_nbr\": \"int16\",\n",
    "         \"item_nbr\": \"int32\",\n",
    "         \"onpromotion\": bool}\n",
    "testset = pd.read_csv(r\"dataset/test.csv\", index_col=\"id\", parse_dates=[\"date\"], \n",
    "                      iterator=True, chunksize=500000, dtype=dtypes)\n",
    "\n",
    "results = pd.DataFrame(columns=[\"unit_sales\"])\n",
    "for i, test in enumerate(testset):\n",
    "    testindex = test.index\n",
    "    filename = (\"data_xgboost/dtest-%.3d.buffer\" % (i)) \n",
    "    dtest = xgb.DMatrix(filename)\n",
    "    ypred = xgb_model.predict(dtest)\n",
    "    temp = pd.DataFrame(data=ypred,index=testindex,columns=[\"unit_sales\"])\n",
    "    results = pd.concat([results, temp]) "
   ]
  },
  {
   "cell_type": "code",
   "execution_count": 13,
   "metadata": {
    "collapsed": false
   },
   "outputs": [],
   "source": [
    "results.index.name = \"id\"\n",
    "results.to_csv(r\"results\\results_xgboost_20171222.csv\",float_format=\"%.3f\")"
   ]
  },
  {
   "cell_type": "code",
   "execution_count": 14,
   "metadata": {
    "collapsed": false
   },
   "outputs": [
    {
     "data": {
      "text/html": [
       "<div>\n",
       "<style>\n",
       "    .dataframe thead tr:only-child th {\n",
       "        text-align: right;\n",
       "    }\n",
       "\n",
       "    .dataframe thead th {\n",
       "        text-align: left;\n",
       "    }\n",
       "\n",
       "    .dataframe tbody tr th {\n",
       "        vertical-align: top;\n",
       "    }\n",
       "</style>\n",
       "<table border=\"1\" class=\"dataframe\">\n",
       "  <thead>\n",
       "    <tr style=\"text-align: right;\">\n",
       "      <th></th>\n",
       "      <th>unit_sales</th>\n",
       "    </tr>\n",
       "  </thead>\n",
       "  <tbody>\n",
       "    <tr>\n",
       "      <th>count</th>\n",
       "      <td>3.370464e+06</td>\n",
       "    </tr>\n",
       "    <tr>\n",
       "      <th>mean</th>\n",
       "      <td>8.888513e+00</td>\n",
       "    </tr>\n",
       "    <tr>\n",
       "      <th>std</th>\n",
       "      <td>5.022474e+00</td>\n",
       "    </tr>\n",
       "    <tr>\n",
       "      <th>min</th>\n",
       "      <td>3.335421e+00</td>\n",
       "    </tr>\n",
       "    <tr>\n",
       "      <th>25%</th>\n",
       "      <td>5.744958e+00</td>\n",
       "    </tr>\n",
       "    <tr>\n",
       "      <th>50%</th>\n",
       "      <td>7.374337e+00</td>\n",
       "    </tr>\n",
       "    <tr>\n",
       "      <th>75%</th>\n",
       "      <td>1.007940e+01</td>\n",
       "    </tr>\n",
       "    <tr>\n",
       "      <th>max</th>\n",
       "      <td>7.334799e+01</td>\n",
       "    </tr>\n",
       "  </tbody>\n",
       "</table>\n",
       "</div>"
      ],
      "text/plain": [
       "         unit_sales\n",
       "count  3.370464e+06\n",
       "mean   8.888513e+00\n",
       "std    5.022474e+00\n",
       "min    3.335421e+00\n",
       "25%    5.744958e+00\n",
       "50%    7.374337e+00\n",
       "75%    1.007940e+01\n",
       "max    7.334799e+01"
      ]
     },
     "execution_count": 14,
     "metadata": {},
     "output_type": "execute_result"
    }
   ],
   "source": [
    "results.describe()"
   ]
  },
  {
   "cell_type": "code",
   "execution_count": null,
   "metadata": {
    "collapsed": true
   },
   "outputs": [],
   "source": []
  }
 ],
 "metadata": {
  "kernelspec": {
   "display_name": "Python 3",
   "language": "python",
   "name": "python3"
  },
  "language_info": {
   "codemirror_mode": {
    "name": "ipython",
    "version": 3
   },
   "file_extension": ".py",
   "mimetype": "text/x-python",
   "name": "python",
   "nbconvert_exporter": "python",
   "pygments_lexer": "ipython3",
   "version": "3.6.0"
  },
  "toc": {
   "nav_menu": {},
   "number_sections": true,
   "sideBar": true,
   "skip_h1_title": true,
   "toc_cell": false,
   "toc_position": {
    "height": "531px",
    "left": "0px",
    "right": "1154px",
    "top": "106px",
    "width": "212px"
   },
   "toc_section_display": "block",
   "toc_window_display": false
  }
 },
 "nbformat": 4,
 "nbformat_minor": 2
}
