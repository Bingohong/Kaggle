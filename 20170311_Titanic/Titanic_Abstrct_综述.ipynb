{
 "cells": [
  {
   "cell_type": "markdown",
   "metadata": {},
   "source": [
    "# 目标：学习使用\"sklearn\",机器学习lib\n",
    "1.交叉验证确保模型不会过拟合\n",
    "2.使用参数调整和网格搜索寻找最优分类算法\n",
    "3.XGBoost是一个新的流行算法包，！！！我的电脑暂时装不上去\n",
    "code from \"Scikit-Learn ML from Start to Finish\"\n",
    "https://www.kaggle.com/jeffd23/titanic/scikit-learn-ml-from-start-to-finish"
   ]
  },
  {
   "cell_type": "markdown",
   "metadata": {},
   "source": [
    "## 学习步骤：\n",
    "1.导入数据importing\n",
    "2.可视化数据visualize\n",
    "3.清洗转换数据clean&transform\n",
    "4.数据标签数值化encode\n",
    "5.拆分训练集和测试集split\n",
    "6.算法调整\n",
    "7.交叉验证KFold\n",
    "8.提交kaggle"
   ]
  },
  {
   "cell_type": "code",
   "execution_count": 17,
   "metadata": {
    "collapsed": false
   },
   "outputs": [
    {
     "data": {
      "text/html": [
       "<div>\n",
       "<table border=\"1\" class=\"dataframe\">\n",
       "  <thead>\n",
       "    <tr style=\"text-align: right;\">\n",
       "      <th></th>\n",
       "      <th>PassengerId</th>\n",
       "      <th>Survived</th>\n",
       "      <th>Pclass</th>\n",
       "      <th>Name</th>\n",
       "      <th>Sex</th>\n",
       "      <th>Age</th>\n",
       "      <th>SibSp</th>\n",
       "      <th>Parch</th>\n",
       "      <th>Ticket</th>\n",
       "      <th>Fare</th>\n",
       "      <th>Cabin</th>\n",
       "      <th>Embarked</th>\n",
       "    </tr>\n",
       "  </thead>\n",
       "  <tbody>\n",
       "    <tr>\n",
       "      <th>750</th>\n",
       "      <td>751</td>\n",
       "      <td>1</td>\n",
       "      <td>2</td>\n",
       "      <td>Wells, Miss. Joan</td>\n",
       "      <td>female</td>\n",
       "      <td>4.0</td>\n",
       "      <td>1</td>\n",
       "      <td>1</td>\n",
       "      <td>29103</td>\n",
       "      <td>23.0000</td>\n",
       "      <td>NaN</td>\n",
       "      <td>S</td>\n",
       "    </tr>\n",
       "    <tr>\n",
       "      <th>504</th>\n",
       "      <td>505</td>\n",
       "      <td>1</td>\n",
       "      <td>1</td>\n",
       "      <td>Maioni, Miss. Roberta</td>\n",
       "      <td>female</td>\n",
       "      <td>16.0</td>\n",
       "      <td>0</td>\n",
       "      <td>0</td>\n",
       "      <td>110152</td>\n",
       "      <td>86.5000</td>\n",
       "      <td>B79</td>\n",
       "      <td>S</td>\n",
       "    </tr>\n",
       "    <tr>\n",
       "      <th>731</th>\n",
       "      <td>732</td>\n",
       "      <td>0</td>\n",
       "      <td>3</td>\n",
       "      <td>Hassan, Mr. Houssein G N</td>\n",
       "      <td>male</td>\n",
       "      <td>11.0</td>\n",
       "      <td>0</td>\n",
       "      <td>0</td>\n",
       "      <td>2699</td>\n",
       "      <td>18.7875</td>\n",
       "      <td>NaN</td>\n",
       "      <td>C</td>\n",
       "    </tr>\n",
       "  </tbody>\n",
       "</table>\n",
       "</div>"
      ],
      "text/plain": [
       "     PassengerId  Survived  Pclass                      Name     Sex   Age  \\\n",
       "750          751         1       2         Wells, Miss. Joan  female   4.0   \n",
       "504          505         1       1     Maioni, Miss. Roberta  female  16.0   \n",
       "731          732         0       3  Hassan, Mr. Houssein G N    male  11.0   \n",
       "\n",
       "     SibSp  Parch  Ticket     Fare Cabin Embarked  \n",
       "750      1      1   29103  23.0000   NaN        S  \n",
       "504      0      0  110152  86.5000   B79        S  \n",
       "731      0      0    2699  18.7875   NaN        C  "
      ]
     },
     "execution_count": 17,
     "metadata": {},
     "output_type": "execute_result"
    }
   ],
   "source": [
    "#导入数据\n",
    "import numpy as np\n",
    "import pandas as pd\n",
    "import matplotlib.pyplot as plt\n",
    "import seaborn as sns\n",
    "%matplotlib inline\n",
    "data_train=pd.read_csv(r\"train.csv\")\n",
    "data_test=pd.read_csv(r\"train.csv\")\n",
    "\n",
    "data_train.sample(3)"
   ]
  },
  {
   "cell_type": "code",
   "execution_count": 18,
   "metadata": {
    "collapsed": false
   },
   "outputs": [
    {
     "data": {
      "text/plain": [
       "<matplotlib.axes._subplots.AxesSubplot at 0xca63940>"
      ]
     },
     "execution_count": 18,
     "metadata": {},
     "output_type": "execute_result"
    },
    {
     "data": {
      "image/png": "[encoded data removed]",
      "text/plain": [
       "<matplotlib.figure.Figure at 0xba58d30>"
      ]
     },
     "metadata": {},
     "output_type": "display_data"
    }
   ],
   "source": [
    "#数据可视化\n",
    "sns.barplot(x=\"Embarked\",y=\"Survived\",hue=\"Sex\",data=data_train)"
   ]
  },
  {
   "cell_type": "code",
   "execution_count": 19,
   "metadata": {
    "collapsed": false
   },
   "outputs": [
    {
     "data": {
      "text/plain": [
       "<matplotlib.axes._subplots.AxesSubplot at 0xca77ef0>"
      ]
     },
     "execution_count": 19,
     "metadata": {},
     "output_type": "execute_result"
    },
    {
     "data": {
      "image/png": "[encoded data removed]",
      "text/plain": [
       "<matplotlib.figure.Figure at 0xca7a470>"
      ]
     },
     "metadata": {},
     "output_type": "display_data"
    }
   ],
   "source": [
    "sns.pointplot(x=\"Pclass\",y=\"Survived\",hue=\"Sex\",data=data_train,palette={\"male\":\"blue\",\"female\":\"pink\"},markers=[\"*\",\"o\"],linestyles=[\"-\",\"--\"])"
   ]
  },
  {
   "cell_type": "code",
   "execution_count": 20,
   "metadata": {
    "collapsed": false
   },
   "outputs": [
    {
     "data": {
      "text/html": [
       "<div>\n",
       "<table border=\"1\" class=\"dataframe\">\n",
       "  <thead>\n",
       "    <tr style=\"text-align: right;\">\n",
       "      <th></th>\n",
       "      <th>PassengerId</th>\n",
       "      <th>Survived</th>\n",
       "      <th>Pclass</th>\n",
       "      <th>Sex</th>\n",
       "      <th>Age</th>\n",
       "      <th>SibSp</th>\n",
       "      <th>Parch</th>\n",
       "      <th>Fare</th>\n",
       "      <th>Cabin</th>\n",
       "      <th>Lname</th>\n",
       "      <th>NamePrefix</th>\n",
       "    </tr>\n",
       "  </thead>\n",
       "  <tbody>\n",
       "    <tr>\n",
       "      <th>0</th>\n",
       "      <td>1</td>\n",
       "      <td>0</td>\n",
       "      <td>3</td>\n",
       "      <td>male</td>\n",
       "      <td>student</td>\n",
       "      <td>1</td>\n",
       "      <td>0</td>\n",
       "      <td>1_quartile</td>\n",
       "      <td>N</td>\n",
       "      <td>Braund,</td>\n",
       "      <td>Mr.</td>\n",
       "    </tr>\n",
       "    <tr>\n",
       "      <th>1</th>\n",
       "      <td>2</td>\n",
       "      <td>1</td>\n",
       "      <td>1</td>\n",
       "      <td>female</td>\n",
       "      <td>adult</td>\n",
       "      <td>1</td>\n",
       "      <td>0</td>\n",
       "      <td>4_quartile</td>\n",
       "      <td>C</td>\n",
       "      <td>Cumings,</td>\n",
       "      <td>Mrs.</td>\n",
       "    </tr>\n",
       "    <tr>\n",
       "      <th>2</th>\n",
       "      <td>3</td>\n",
       "      <td>1</td>\n",
       "      <td>3</td>\n",
       "      <td>female</td>\n",
       "      <td>young adult</td>\n",
       "      <td>0</td>\n",
       "      <td>0</td>\n",
       "      <td>1_quartile</td>\n",
       "      <td>N</td>\n",
       "      <td>Heikkinen,</td>\n",
       "      <td>Miss.</td>\n",
       "    </tr>\n",
       "  </tbody>\n",
       "</table>\n",
       "</div>"
      ],
      "text/plain": [
       "   PassengerId  Survived  Pclass     Sex          Age  SibSp  Parch  \\\n",
       "0            1         0       3    male      student      1      0   \n",
       "1            2         1       1  female        adult      1      0   \n",
       "2            3         1       3  female  young adult      0      0   \n",
       "\n",
       "         Fare Cabin       Lname NamePrefix  \n",
       "0  1_quartile     N     Braund,        Mr.  \n",
       "1  4_quartile     C    Cumings,       Mrs.  \n",
       "2  1_quartile     N  Heikkinen,      Miss.  "
      ]
     },
     "execution_count": 20,
     "metadata": {},
     "output_type": "execute_result"
    }
   ],
   "source": [
    "#特征转换\n",
    "def simplify_ages(df):\n",
    "    df.Age=df.Age.fillna(-0.5)\n",
    "    bins=(-1,0,5,12,18,25,35,60,120)\n",
    "    group_names=[\"unkonw\",\"Baby\",\"child\",\n",
    "                 \"teenger\",\"student\",\"young adult\",\"adult\",\"senior\"]\n",
    "    categories=pd.cut(df.Age,bins,labels=group_names)\n",
    "    df.Age=categories\n",
    "    return df\n",
    "\n",
    "def simplify_cabins(df):\n",
    "    df.Cabin=df.Cabin.fillna(\"N\")\n",
    "    df.Cabin=df.Cabin.apply(lambda x:x[0])\n",
    "    return df \n",
    "\n",
    "def simplify_fares(df):\n",
    "    df.Fare=df.Fare.fillna(-0.5)\n",
    "    bins=(-1,0,8,15,31,1000)\n",
    "    group_names=[\"unknow\",\"1_quartile\",\"2_quartile\",\"3_quartile\",\"4_quartile\"]\n",
    "    categories=pd.cut(df.Fare,bins,labels=group_names)\n",
    "    df.Fare=categories\n",
    "    return df\n",
    "\n",
    "def format_name(df):\n",
    "    df[\"Lname\"]=df.Name.apply(lambda x:x.split(\" \")[0])\n",
    "    df[\"NamePrefix\"]=df.Name.apply(lambda x:x.split(\" \")[1])\n",
    "    return df\n",
    "\n",
    "def drop_features(df):\n",
    "    return df.drop([\"Ticket\",\"Name\",\"Embarked\"],axis=1)\n",
    "\n",
    "def tranform_features(df):\n",
    "    df=simplify_ages(df)\n",
    "    df=simplify_cabins(df)\n",
    "    df=simplify_fares(df)\n",
    "    df=format_name(df)\n",
    "    df=drop_features(df)\n",
    "    return df\n",
    "\n",
    "data_train=tranform_features(data_train)\n",
    "data_test=tranform_features(data_test)\n",
    "data_train.head(3)"
   ]
  },
  {
   "cell_type": "code",
   "execution_count": 21,
   "metadata": {
    "collapsed": false
   },
   "outputs": [
    {
     "data": {
      "text/plain": [
       "<matplotlib.axes._subplots.AxesSubplot at 0xcb08dd8>"
      ]
     },
     "execution_count": 21,
     "metadata": {},
     "output_type": "execute_result"
    },
    {
     "data": {
      "image/png": "[encoded data removed]",
      "text/plain": [
       "<matplotlib.figure.Figure at 0xcb0f048>"
      ]
     },
     "metadata": {},
     "output_type": "display_data"
    }
   ],
   "source": [
    "sns.barplot(x=\"Age\",y=\"Survived\",hue=\"Sex\",data=data_train)"
   ]
  },
  {
   "cell_type": "code",
   "execution_count": 22,
   "metadata": {
    "collapsed": false
   },
   "outputs": [
    {
     "data": {
      "text/plain": [
       "<matplotlib.axes._subplots.AxesSubplot at 0xcb64198>"
      ]
     },
     "execution_count": 22,
     "metadata": {},
     "output_type": "execute_result"
    },
    {
     "data": {
      "image/png": "[encoded data removed]",
      "text/plain": [
       "<matplotlib.figure.Figure at 0xcc1a550>"
      ]
     },
     "metadata": {},
     "output_type": "display_data"
    }
   ],
   "source": [
    "sns.barplot(x=\"Cabin\",y=\"Survived\",hue=\"Sex\",data=data_train)"
   ]
  },
  {
   "cell_type": "code",
   "execution_count": 23,
   "metadata": {
    "collapsed": false
   },
   "outputs": [
    {
     "data": {
      "text/plain": [
       "<matplotlib.axes._subplots.AxesSubplot at 0xcc1ca58>"
      ]
     },
     "execution_count": 23,
     "metadata": {},
     "output_type": "execute_result"
    },
    {
     "data": {
      "image/png": "[encoded data removed]",
      "text/plain": [
       "<matplotlib.figure.Figure at 0xcd01c88>"
      ]
     },
     "metadata": {},
     "output_type": "display_data"
    }
   ],
   "source": [
    "sns.barplot(x=\"Fare\",y=\"Survived\",hue=\"Sex\",data=data_train)"
   ]
  },
  {
   "cell_type": "code",
   "execution_count": 24,
   "metadata": {
    "collapsed": true
   },
   "outputs": [],
   "source": [
    "#标签数值化\n",
    "#normalize labels \"method in the labelencoder\"\n",
    "#result a table of numbers\n",
    "from sklearn import preprocessing\n",
    "def encode_features(df_train,df_test):\n",
    "    features=[\"Fare\",\"Cabin\",\"Age\",\"Sex\",\"Lname\",\"NamePrefix\"]\n",
    "    df_combined=pd.concat([df_train[features],df_test[features]])\n",
    "    \n",
    "    for feature in features:\n",
    "        le=preprocessing.LabelEncoder()\n",
    "        le=le.fit(df_combined[feature])\n",
    "        df_train[feature]=le.transform(df_train[feature])\n",
    "        df_test[feature]=le.transform(df_test[feature])\n",
    "    return df_train,df_test\n"
   ]
  },
  {
   "cell_type": "code",
   "execution_count": 25,
   "metadata": {
    "collapsed": false
   },
   "outputs": [
    {
     "data": {
      "text/html": [
       "<div>\n",
       "<table border=\"1\" class=\"dataframe\">\n",
       "  <thead>\n",
       "    <tr style=\"text-align: right;\">\n",
       "      <th></th>\n",
       "      <th>PassengerId</th>\n",
       "      <th>Survived</th>\n",
       "      <th>Pclass</th>\n",
       "      <th>Sex</th>\n",
       "      <th>Age</th>\n",
       "      <th>SibSp</th>\n",
       "      <th>Parch</th>\n",
       "      <th>Fare</th>\n",
       "      <th>Cabin</th>\n",
       "      <th>Lname</th>\n",
       "      <th>NamePrefix</th>\n",
       "    </tr>\n",
       "  </thead>\n",
       "  <tbody>\n",
       "    <tr>\n",
       "      <th>0</th>\n",
       "      <td>1</td>\n",
       "      <td>0</td>\n",
       "      <td>3</td>\n",
       "      <td>1</td>\n",
       "      <td>4</td>\n",
       "      <td>1</td>\n",
       "      <td>0</td>\n",
       "      <td>0</td>\n",
       "      <td>7</td>\n",
       "      <td>73</td>\n",
       "      <td>17</td>\n",
       "    </tr>\n",
       "    <tr>\n",
       "      <th>1</th>\n",
       "      <td>2</td>\n",
       "      <td>1</td>\n",
       "      <td>1</td>\n",
       "      <td>0</td>\n",
       "      <td>1</td>\n",
       "      <td>1</td>\n",
       "      <td>0</td>\n",
       "      <td>3</td>\n",
       "      <td>2</td>\n",
       "      <td>136</td>\n",
       "      <td>18</td>\n",
       "    </tr>\n",
       "    <tr>\n",
       "      <th>2</th>\n",
       "      <td>3</td>\n",
       "      <td>1</td>\n",
       "      <td>3</td>\n",
       "      <td>0</td>\n",
       "      <td>7</td>\n",
       "      <td>0</td>\n",
       "      <td>0</td>\n",
       "      <td>0</td>\n",
       "      <td>7</td>\n",
       "      <td>251</td>\n",
       "      <td>14</td>\n",
       "    </tr>\n",
       "  </tbody>\n",
       "</table>\n",
       "</div>"
      ],
      "text/plain": [
       "   PassengerId  Survived  Pclass  Sex  Age  SibSp  Parch  Fare  Cabin  Lname  \\\n",
       "0            1         0       3    1    4      1      0     0      7     73   \n",
       "1            2         1       1    0    1      1      0     3      2    136   \n",
       "2            3         1       3    0    7      0      0     0      7    251   \n",
       "\n",
       "   NamePrefix  \n",
       "0          17  \n",
       "1          18  \n",
       "2          14  "
      ]
     },
     "execution_count": 25,
     "metadata": {},
     "output_type": "execute_result"
    }
   ],
   "source": [
    "data_train,data_test=encode_features(data_train,data_test)\n",
    "data_train.head(3)"
   ]
  },
  {
   "cell_type": "code",
   "execution_count": 28,
   "metadata": {
    "collapsed": true
   },
   "outputs": [],
   "source": [
    "#分割数据splitting \n",
    "#80%训练集分割\n",
    "from sklearn.model_selection import train_test_split\n",
    "x_all=data_train.drop([\"Survived\",\"PassengerId\"],axis=1)\n",
    "y_all=data_train[\"Survived\"]\n",
    "\n",
    "num_test=0.2\n",
    "x_train,x_test,y_train,y_test=train_test_split(x_all,y_all,test_size=num_test,random_state=23)\n",
    "\n"
   ]
  },
  {
   "cell_type": "code",
   "execution_count": 31,
   "metadata": {
    "collapsed": false
   },
   "outputs": [
    {
     "data": {
      "text/plain": [
       "RandomForestClassifier(bootstrap=True, class_weight=None, criterion='entropy',\n",
       "            max_depth=10, max_features='sqrt', max_leaf_nodes=None,\n",
       "            min_impurity_split=1e-07, min_samples_leaf=1,\n",
       "            min_samples_split=3, min_weight_fraction_leaf=0.0,\n",
       "            n_estimators=6, n_jobs=1, oob_score=False, random_state=None,\n",
       "            verbose=0, warm_start=False)"
      ]
     },
     "execution_count": 31,
     "metadata": {},
     "output_type": "execute_result"
    }
   ],
   "source": [
    "#算法训练和选取fit and tuning\n",
    "from sklearn.ensemble import RandomForestClassifier\n",
    "from sklearn.metrics import make_scorer ,accuracy_score\n",
    "from sklearn.model_selection import GridSearchCV\n",
    "\n",
    "clf=RandomForestClassifier()\n",
    "#参数组合\n",
    "parameters={\"n_estimators\":[4,6,9],\n",
    "           \"max_features\":[\"log2\",\"sqrt\",\"auto\"],\n",
    "           \"criterion\":[\"entropy\",\"gini\"],\n",
    "           \"max_depth\":[2,3,5,10],\n",
    "           \"min_samples_split\":[2,3,5],\n",
    "           \"min_samples_leaf\":[1,5,8]}\n",
    "\n",
    "#计算参数组合的得分\n",
    "acc_scorer=make_scorer(accuracy_score)\n",
    "\n",
    "#网格搜索\n",
    "grid_obj=GridSearchCV(clf,parameters,scoring=acc_scorer)\n",
    "grid_obj=grid_obj.fit(x_train,y_train)\n",
    "\n",
    "#选择最佳参数组合\n",
    "clf=grid_obj.best_estimator_\n",
    "\n",
    "#算法拟合\n",
    "clf.fit(x_train,y_train)\n"
   ]
  },
  {
   "cell_type": "code",
   "execution_count": 35,
   "metadata": {
    "collapsed": false
   },
   "outputs": [
    {
     "data": {
      "text/plain": [
       "0.83240223463687146"
      ]
     },
     "execution_count": 35,
     "metadata": {},
     "output_type": "execute_result"
    }
   ],
   "source": [
    "predictions=clf.predict(x_test)\n",
    "accuracy_score(y_test,predictions)"
   ]
  },
  {
   "cell_type": "code",
   "execution_count": 45,
   "metadata": {
    "collapsed": false
   },
   "outputs": [
    {
     "name": "stdout",
     "output_type": "stream",
     "text": [
      "Fold 1 accuracy:0.7666666666666667\n",
      "(801, 9)\n",
      "Fold 2 accuracy:0.8314606741573034\n",
      "(802, 9)\n",
      "Fold 3 accuracy:0.7865168539325843\n",
      "(802, 9)\n",
      "Fold 4 accuracy:0.8426966292134831\n",
      "(802, 9)\n",
      "Fold 5 accuracy:0.8876404494382022\n",
      "(802, 9)\n",
      "Fold 6 accuracy:0.8651685393258427\n",
      "(802, 9)\n",
      "Fold 7 accuracy:0.7865168539325843\n",
      "(802, 9)\n",
      "Fold 8 accuracy:0.8089887640449438\n",
      "(802, 9)\n",
      "Fold 9 accuracy:0.8764044943820225\n",
      "(802, 9)\n",
      "Fold 10 accuracy:0.8426966292134831\n",
      "(802, 9)\n",
      "Mean Accuracy:0.8294756554307116\n"
     ]
    }
   ],
   "source": [
    "#交叉验证，采用KFlod\n",
    "from sklearn.model_selection import KFold\n",
    "\n",
    "def run_kfold(clf):\n",
    "    kf=KFold(10)\n",
    "    outcomes=[]\n",
    "    fold=0\n",
    "    for train_index,test_index in kf.split(y_all):\n",
    "        fold+=1\n",
    "        x_train,x_test=x_all.values[train_index],x_all.values[test_index]\n",
    "        y_train,y_test=y_all.values[train_index],y_all.values[test_index]\n",
    "        clf.fit(x_train,y_train)\n",
    "        predictions=clf.predict(x_test)\n",
    "        accuracy=accuracy_score(y_test,predictions)\n",
    "        outcomes.append(accuracy)\n",
    "        print(\"Fold {0} accuracy:{1}\".format(fold,accuracy))\n",
    "        \n",
    "        \n",
    "    mean_outcomes=np.mean(outcomes)\n",
    "    print(\"Mean Accuracy:{0}\".format(mean_outcomes))\n",
    "\n",
    "run_kfold(clf)"
   ]
  },
  {
   "cell_type": "code",
   "execution_count": 55,
   "metadata": {
    "collapsed": false
   },
   "outputs": [],
   "source": [
    "#预测测试数据\n",
    "ids=data_test[\"PassengerId\"]\n",
    "predictions=clf.predict(data_test.drop([\"Survived\",\"PassengerId\"],axis=1))\n",
    "\n",
    "output=pd.DataFrame({\"PassengerId\":ids,\"Survived\":predictions})\n",
    "output.head(3)\n",
    "output.to_csv(\"20170406_Titanic_prediction.csv\")"
   ]
  }
 ],
 "metadata": {
  "anaconda-cloud": {},
  "kernelspec": {
   "display_name": "Python [default]",
   "language": "python",
   "name": "python3"
  },
  "language_info": {
   "codemirror_mode": {
    "name": "ipython",
    "version": 3
   },
   "file_extension": ".py",
   "mimetype": "text/x-python",
   "name": "python",
   "nbconvert_exporter": "python",
   "pygments_lexer": "ipython3",
   "version": "3.5.2"
  }
 },
 "nbformat": 4,
 "nbformat_minor": 1
}
